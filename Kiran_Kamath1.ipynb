{
  "nbformat": 4,
  "nbformat_minor": 0,
  "metadata": {
    "colab": {
      "name": "Kiran Kamath1.ipynb",
      "provenance": []
    },
    "kernelspec": {
      "name": "python3",
      "display_name": "Python 3"
    },
    "language_info": {
      "name": "python"
    }
  },
  "cells": [
    {
      "cell_type": "code",
      "metadata": {
        "id": "xEyJ79HiiMiK"
      },
      "source": [
        "import requests\n",
        "#import os\n",
        "from datetime import datetime\n",
        "\n",
        "api_key =  'c06a7c3fa6876b02de2b673c3acdfc85'\n",
        "location = input(\"Enter the city name: \")\n",
        "\n",
        "complete_api_link = \"https://api.openweathermap.org/data/2.5/weather?q=\"+location+\"&appid=\"+api_key\n",
        "api_link = requests.get(complete_api_link)\n",
        "api_data = api_link.json()\n",
        "\n",
        "#create variables to store and display data\n",
        "temp_city = ((api_data['main']['temp']) - 273.15)\n",
        "weather_desc = api_data['weather'][0]['description']\n",
        "hmdt = api_data['main']['humidity']\n",
        "wind_spd = api_data['wind']['speed']\n",
        "date_time = datetime.now().strftime(\"%d %b %Y | %I:%M:%S %p\")\n",
        "\n",
        "print (\"-------------------------------------------------------------\")\n",
        "print (\"Weather Stats for - {}  || {}\".format(location.upper(), date_time))\n",
        "print (\"-------------------------------------------------------------\")\n",
        "\n",
        "print (\"Current temperature is: {:.2f} deg C\".format(temp_city))\n",
        "print (\"Current weather desc  :\",weather_desc)\n",
        "print (\"Current Humidity      :\",hmdt, '%')\n",
        "print (\"Current wind speed    :\",wind_spd ,'kmph')\n"
      ],
      "execution_count": 4,
      "outputs": []
    },
    {
      "cell_type": "code",
      "metadata": {
        "id": "BQLfZy3D6-bn"
      },
      "source": [
        "txtdoc=[temp_city,weather_desc,hmdt,wind_spd,date_time]\n",
        "with open(\"Kiran Kamath1.txt\",'w',encoding = 'utf-8')as f:\n",
        "  f.write(\"------------------------------------------------------------------------------\n",
        "  f.write(\"weather stats for {} || {}\".format (location.upper(),date_time))\n",
        "  f.write(\"------------------------------------------------------------------------------------\n",
        "  f.write(\"current Temperature is : {:2f}deg c\\n\".format (txtdoc[0]))\n",
        "  \n",
        "  f.write(\"{},{}\\n\".format(\"Current weather desc:\",txtdoc[1]))\n",
        "  f.write(\"{},{},{}\\n\".format(\"Current Humidity:\",txtdoc[2],\"%\"))\n",
        "  f.write(\"{},{},{}\\n\".format(\"Current wind speed : \",txtdoc[3],kmph))\n",
        "  f.write(\"----------------------------------------------------------------------------\n",
        "\n",
        "  f.close"
      ],
      "execution_count": null,
      "outputs": []
    }
  ]
}